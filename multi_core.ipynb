{
 "cells": [
  {
   "cell_type": "code",
   "execution_count": null,
   "metadata": {},
   "outputs": [],
   "source": [
    "# data and its procession\n",
    "import numpy as np\n",
    "import time\n",
    "import matplotlib.pylab as plt\n",
    "import matplotlib.animation as animation\n",
    "from matplotlib import rc\n",
    "rc('font',**{'family':'sans-serif','sans-serif':['Helvetica']})\n",
    "## for Palatino and other serif fonts use:\n",
    "#rc('font',**{'family':'serif','serif':['Palatino']})\n",
    "rc('text', usetex=True)\n",
    "\n",
    "data = np.random.rand(1000,100)\n",
    "def single_run(data,queue):\n",
    "    import numpy as np\n",
    "    import time\n",
    "    for i_loop in np.arange(data.shape[0]):\n",
    "        time.sleep(0.02)\n",
    "    queue.put(data)"
   ]
  },
  {
   "cell_type": "code",
   "execution_count": null,
   "metadata": {},
   "outputs": [],
   "source": [
    "# multi core process function\n",
    "def multi_process(data,single_run,n_job):\n",
    "    import multiprocessing as mp\n",
    "    from pathos.multiprocessing import ProcessingPool as Pool\n",
    "    # set right cpu number\n",
    "    n_cpu = mp.cpu_count()\n",
    "    if (n_job>0) and (n_job<=n_cpu):\n",
    "        n_job = int(n_job)\n",
    "    else:\n",
    "        n_job = n_cpu-1\n",
    "    # chunk data\n",
    "    n_vox = data.shape[0]\n",
    "    i_chunk = int(np.floor(n_vox/n_job))\n",
    "    index_chunk = np.arange(n_job)*i_chunk\n",
    "    procs = []\n",
    "    manager = mp.Manager()\n",
    "    queue = manager.Queue()\n",
    "    for i_job in np.arange(n_job):\n",
    "        if i_job==n_job-1:\n",
    "            data_job = data[index_chunk[i_job]:,:]\n",
    "        else:\n",
    "            data_job = data[index_chunk[i_job]:index_chunk[i_job+1],:]\n",
    "        # multi process\n",
    "        proc = mp.Process(target=single_run,args=(data_job,queue))\n",
    "        procs.append(proc)\n",
    "    for proc in procs:\n",
    "        proc.start()\n",
    "    for proc in procs:\n",
    "        proc.join()\n",
    "    results = np.zeros(data.shape)\n",
    "    for i_job in np.arange(n_job):\n",
    "        res = queue.get()\n",
    "        if i_job==n_job-1:\n",
    "            results[index_chunk[i_job]:,:]=res\n",
    "        else:\n",
    "            results[index_chunk[i_job]:index_chunk[i_job+1],:]=res\n",
    "    return results\n",
    "        "
   ]
  },
  {
   "cell_type": "code",
   "execution_count": null,
   "metadata": {},
   "outputs": [],
   "source": [
    "# multi core processing and time display\n",
    "n_core_array = np.arange(1,8,1)\n",
    "time_array = np.zeros(n_core_array.shape)\n",
    "for i_run,i_core in enumerate(n_core_array):\n",
    "    time_begin = time.time()\n",
    "    results = multi_process(data,single_run,i_core)\n",
    "    time_end = time.time()\n",
    "    total_time2 = time_end-time_begin\n",
    "    time_array[i_run] = total_time2\n",
    "\n",
    "print('time used: ',time_array)"
   ]
  },
  {
   "cell_type": "code",
   "execution_count": null,
   "metadata": {},
   "outputs": [],
   "source": [
    "import matplotlib.pylab as plt\n",
    "fig,ax = plt.subplots()\n",
    "ax.plot(n_core_array,time_array,label='test',linestyle='--',marker='s',markersize=8,color='royalblue')\n",
    "plt.xlabel(r'n cpu')\n",
    "plt.ylabel(r'time [s]')\n",
    "plt.legend()\n",
    "plt.title(r'multi cores test')\n",
    "plt.savefig('./test/multi_core_test.png', dpi=300,\n",
    "         bbox_inches='tight', pad_inches=0)\n",
    "plt.show()"
   ]
  },
  {
   "cell_type": "code",
   "execution_count": null,
   "metadata": {},
   "outputs": [],
   "source": [
    "#initilize w\n",
    "# w = np.zeros((x.shape[1],1))\n",
    "\n",
    "# create figures\n",
    "fig, ax = plt.subplots()\n",
    "fig.subplots_adjust(left=0.09, bottom=0.09, right=0.99, top=0.99,wspace=None, hspace=None)#, \n",
    "\n",
    "ims = []\n",
    "\n",
    "#Optimization loop\n",
    "for i_w,i_core in enumerate(n_core_array):\n",
    "    # show results\n",
    "    im, = ax.plot(n_core_array[0:i_w],time_array[0:i_w],linestyle='--',color='royalblue',marker='s',markersize=8)\n",
    "    title= ax.text(0.78,0.88,r'number of cpu='+str(n_core_array[i_w])+r', time used='+str(np.round(time_array[i_w],2))+'s', \n",
    "                    size=plt.rcParams[\"axes.titlesize\"],\n",
    "                    ha=\"center\", transform=ax.transAxes, )\n",
    "    plt.xlabel(r'number of cpu used')\n",
    "    plt.ylabel(r'time used [s]')\n",
    "    ims.append([im,title])\n",
    "ax.plot(n_core_array[0],time_array[0],linestyle='--',color='royalblue',marker='s',markersize=8,label='test')\n",
    "plt.legend(loc='upper right')\n",
    "ani = animation.ArtistAnimation(fig, ims, interval=800, blit=False)\n",
    "ani.save(\"./image/multi_core_test.gif\",writer='pillow',dpi=300)\n",
    "plt.show()\n"
   ]
  }
 ],
 "metadata": {
  "kernelspec": {
   "display_name": "Python 3.9.13 ('base')",
   "language": "python",
   "name": "python3"
  },
  "language_info": {
   "codemirror_mode": {
    "name": "ipython",
    "version": 3
   },
   "file_extension": ".py",
   "mimetype": "text/x-python",
   "name": "python",
   "nbconvert_exporter": "python",
   "pygments_lexer": "ipython3",
   "version": "3.9.13"
  },
  "orig_nbformat": 4,
  "vscode": {
   "interpreter": {
    "hash": "d6a818820a2d4b94df252b23f7d311b5b1a3798c769b2a454cee3c1911e726f3"
   }
  }
 },
 "nbformat": 4,
 "nbformat_minor": 2
}
