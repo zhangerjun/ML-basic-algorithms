{
 "cells": [
  {
   "cell_type": "code",
   "execution_count": 5,
   "metadata": {},
   "outputs": [],
   "source": [
    "# data and its procession\n",
    "import numpy as np\n",
    "data = np.random.rand(100000,100)\n",
    "def single_run(data):\n",
    "    for i in np.arange(10000):\n",
    "        res = np.sum(data,axis=1)\n",
    "    return res"
   ]
  },
  {
   "cell_type": "code",
   "execution_count": 6,
   "metadata": {},
   "outputs": [
    {
     "name": "stdout",
     "output_type": "stream",
     "text": [
      "one cpu core processing time:  44.13 s\n"
     ]
    }
   ],
   "source": [
    "# processing time use one cpu core\n",
    "import time\n",
    "time_begin = time.time()\n",
    "single_run(data)\n",
    "time_end = time.time()\n",
    "total_time=time_end-time_begin\n",
    "print('one cpu core processing time: ',np.round(total_time,2),'s')"
   ]
  },
  {
   "cell_type": "code",
   "execution_count": 7,
   "metadata": {},
   "outputs": [],
   "source": [
    "# multi core process function\n",
    "def multi_process(data,single_run,n_job):\n",
    "    import multiprocessing as mp\n",
    "    # set right cpu number\n",
    "    n_cpu = mp.cpu_count()\n",
    "    if (n_job>0) and (n_job<=n_cpu):\n",
    "        n_job = int(n_job)\n",
    "    else:\n",
    "        n_job = n_cpu-1\n",
    "    # chunk data\n",
    "    n_vox = data.shape[0]\n",
    "    i_chunk = int(np.ceil(n_vox/n_job))\n",
    "    index_chunk = np.arange(n_job)*i_chunk\n",
    "    index_chunk[-1] = n_vox\n",
    "\n",
    "    for i_job in np.arange(n_job-1):\n",
    "        data = data[index_chunk[i_job]:index_chunk[i_job+1],:]\n",
    "        # multi process\n",
    "        procs = []\n",
    "        for i_proc in np.arange(n_job):\n",
    "            proc = mp.Process(target=single_run,args=(data,))\n",
    "            proc.start()\n",
    "            procs.append(proc)\n",
    "        for proc in procs:\n",
    "            proc.join()\n",
    "        "
   ]
  },
  {
   "cell_type": "code",
   "execution_count": 8,
   "metadata": {},
   "outputs": [
    {
     "name": "stdout",
     "output_type": "stream",
     "text": [
      "multi cpu core processing time:  7.31 s\n"
     ]
    }
   ],
   "source": [
    "# multi core processing and time display\n",
    "time_begin = time.time()\n",
    "multi_process(data,single_run,7)\n",
    "time_end = time.time()\n",
    "total_time2 = time_end-time_begin\n",
    "print('multi cpu core processing time: ',np.round(total_time2,2),'s')"
   ]
  }
 ],
 "metadata": {
  "kernelspec": {
   "display_name": "Python 3.9.13 ('base')",
   "language": "python",
   "name": "python3"
  },
  "language_info": {
   "codemirror_mode": {
    "name": "ipython",
    "version": 3
   },
   "file_extension": ".py",
   "mimetype": "text/x-python",
   "name": "python",
   "nbconvert_exporter": "python",
   "pygments_lexer": "ipython3",
   "version": "3.9.13"
  },
  "orig_nbformat": 4,
  "vscode": {
   "interpreter": {
    "hash": "d6a818820a2d4b94df252b23f7d311b5b1a3798c769b2a454cee3c1911e726f3"
   }
  }
 },
 "nbformat": 4,
 "nbformat_minor": 2
}
