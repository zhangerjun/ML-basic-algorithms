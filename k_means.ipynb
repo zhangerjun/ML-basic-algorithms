{
 "cells": [
  {
   "cell_type": "markdown",
   "metadata": {},
   "source": [
    "# K Means Algrithm"
   ]
  },
  {
   "cell_type": "markdown",
   "metadata": {},
   "source": [
    "## Introduction"
   ]
  },
  {
   "cell_type": "markdown",
   "metadata": {},
   "source": [
    "## Load and Display data"
   ]
  },
  {
   "cell_type": "code",
   "execution_count": null,
   "metadata": {},
   "outputs": [],
   "source": [
    "from sklearn.datasets import load_iris\n",
    "import matplotlib.pylab as plt\n",
    "import numpy as np\n",
    "iris = load_iris()\n",
    "data_iris=iris.data\n",
    "\n",
    "plt.figure()\n",
    "plt.subplots()\n",
    "plt.scatter(data_iris[:,0][iris.target==0],data_iris[:,1][iris.target==0],label=iris.target_names[0])\n",
    "plt.scatter(data_iris[:,0][iris.target==1],data_iris[:,1][iris.target==1],label=iris.target_names[1])\n",
    "plt.scatter(data_iris[:,0][iris.target==2],data_iris[:,1][iris.target==2],label=iris.target_names[2])\n",
    "plt.xlabel(iris.feature_names[0])\n",
    "plt.ylabel(iris.feature_names[3])\n",
    "plt.legend()"
   ]
  },
  {
   "cell_type": "markdown",
   "metadata": {},
   "source": [
    "## Define Functions"
   ]
  },
  {
   "cell_type": "code",
   "execution_count": null,
   "metadata": {},
   "outputs": [],
   "source": [
    "class K_means:\n",
    "    def __init__(self,data,k=3,dis_type='euclidean',seed=4,res=1e-10,n_loop=1000):\n",
    "        self.data = data\n",
    "        self.k = k\n",
    "        self.dis_type = dis_type\n",
    "        self.res = res\n",
    "        self.n_loop = n_loop\n",
    "        self.seed=seed\n",
    "    def initial_k(self,data,k,seed):\n",
    "        '''\n",
    "        usage: k_points_initial = initial_k(data=data_iris,k=3);\n",
    "        data: input data, nd array, (N,D);\n",
    "        k: cluster number;\n",
    "        dis_type: distance type.\n",
    "        '''\n",
    "        import numpy as np\n",
    "        dim = data.shape[1]\n",
    "        k_initial = np.zeros((k,dim))\n",
    "        for i_dim in np.arange(dim):\n",
    "            #set seeds\n",
    "            if seed!=0:\n",
    "                np.random.seed(seed+i_dim)\n",
    "            k_initial[:,i_dim] = np.random.uniform(np.amin(data[:,i_dim]),np.amax(data[:,i_dim]),k)\n",
    "        return k_initial\n",
    "    \n",
    "    def distance_kmean(self,data,k_points,dis_type):\n",
    "        '''\n",
    "        data: input data;\n",
    "        k_points: k number of points;\n",
    "        usage: distance = distance_kmean(data=data_iris,k_points=k_points_initial)\n",
    "        '''\n",
    "        import numpy as np\n",
    "        import numpy.linalg as LA\n",
    "        n_sample = data.shape[0]\n",
    "        k = k_points.shape[0]\n",
    "        distance = np.zeros((n_sample,k))\n",
    "        for i_k in np.arange(k):\n",
    "            i_k_point_datashape = np.repeat(np.expand_dims(k_points[i_k,:],axis=0),n_sample,axis=0)\n",
    "            distance_array= data-i_k_point_datashape\n",
    "            distance_i_k = LA.norm(distance_array,2,axis=1)\n",
    "            distance[:,i_k] = distance_i_k\n",
    "        return distance\n",
    "    \n",
    "    def centroids_cal(self,data,distance,k_points_initial):\n",
    "        '''\n",
    "        data: input data;\n",
    "        distance: distance calculated;\n",
    "        k_points_initial:\n",
    "        k_points_update = centroids_cal(data=data_iris,distance=distance,k_points_initial=k_points_initial)\n",
    "        '''\n",
    "        import numpy as np\n",
    "        new_group_labels = np.argmin(distance,axis=1)\n",
    "        k = k_points_initial.shape[0]\n",
    "        k_points_new = np.zeros(k_points_initial.shape)\n",
    "        for i_k in np.arange(k):\n",
    "            index = np.array(new_group_labels)==i_k\n",
    "            if len(index)>0:\n",
    "                data_i_k = data[index,:]\n",
    "                k_points_new[i_k,:] = np.mean(data_i_k,axis=0)\n",
    "            else:\n",
    "                k_points_new[i_k,:] = k_points_initial[i_k,:]\n",
    "        return k_points_new\n",
    "    # def sort_labels(self,targets,labels):\n",
    "        # n_label_max = len(np.unique(labels))\n",
    "        # n_label = n_label_max-1\n",
    "        # for label in np.unique(labels):\n",
    "        #     n_label+=1\n",
    "        #     labels[labels==label] = n_label\n",
    "        # labels = labels-n_label_max\n",
    "    def k_means(self,data,k,dis_type,seed,res=1e-10,n_loop=1000):\n",
    "        '''\n",
    "\n",
    "        '''\n",
    "        import numpy as np\n",
    "        import numpy.linalg as LA\n",
    "        k_points_old = self.initial_k(data=data,k=k,seed=seed)\n",
    "        distance = self.distance_kmean(data=data,k_points=k_points_old,dis_type=self.dis_type)\n",
    "        #\n",
    "        k_points_stored = list([])\n",
    "        k_points_stored.append(k_points_old)\n",
    "        n_cal = 0\n",
    "        distance_move = res+1\n",
    "        while (distance_move >res) and (n_cal<n_loop):\n",
    "            n_cal+=1\n",
    "            distance = self.distance_kmean(data=data,k_points=k_points_old,dis_type=self.dis_type)\n",
    "            k_points_update = self.centroids_cal(data=data,distance=distance,k_points_initial=k_points_old)\n",
    "            distance_move = np.sum(LA.norm(k_points_old-k_points_update,2,axis=1))\n",
    "            k_points_old = k_points_update\n",
    "            k_points_stored.append(k_points_old)\n",
    "        k_points_stored = np.array(k_points_stored)\n",
    "        distance = self.distance_kmean(data=data,k_points=k_points_old,dis_type=self.dis_type)\n",
    "        # assigin right ordered labels\n",
    "        labels = np.argmin(distance,axis=1)\n",
    "        # output\n",
    "        return labels, k_points_stored\n"
   ]
  },
  {
   "cell_type": "code",
   "execution_count": null,
   "metadata": {},
   "outputs": [],
   "source": [
    "# function usage"
   ]
  },
  {
   "cell_type": "markdown",
   "metadata": {},
   "source": [
    "## Fitting"
   ]
  },
  {
   "cell_type": "code",
   "execution_count": null,
   "metadata": {},
   "outputs": [],
   "source": [
    "data_iris=iris.data[:,[1,2,3]]\n",
    "km = K_means(data=data_iris)\n",
    "tol = 0.8\n",
    "accuracy =0\n",
    "# res_index = 150\n",
    "seed = 3\n",
    "while accuracy < tol:\n",
    "    seed+=1\n",
    "    labels,k_points_stored = km.k_means(data=data_iris,k=3,dis_type='euclidean',seed=seed,res=1e-3,n_loop=1500)\n",
    "    index_wrong = labels-iris.target\n",
    "    \n",
    "    res_index = np.sum(np.abs(index_wrong))\n",
    "    accuracy = np.array(len(index_wrong[index_wrong==0])/len(labels)).round(decimals=2)\n",
    "print('accuracy: ',accuracy)\n",
    "print(seed)"
   ]
  },
  {
   "cell_type": "markdown",
   "metadata": {},
   "source": [
    "## Display results"
   ]
  },
  {
   "cell_type": "markdown",
   "metadata": {},
   "source": [
    "### Display confusion matrix and accuracy"
   ]
  },
  {
   "cell_type": "code",
   "execution_count": null,
   "metadata": {},
   "outputs": [],
   "source": [
    "from sklearn.metrics import confusion_matrix\n",
    "confu = confusion_matrix(iris.target,labels)\n",
    "plt.imshow(confu,cmap=plt.cm.Blues)\n",
    "plt.colorbar()\n",
    "plt.xticks(np.arange(3),iris.target_names)\n",
    "plt.yticks(np.arange(3),iris.target_names)\n",
    "plt.xlabel('Prediction')\n",
    "plt.ylabel('Truth')\n",
    "for row in np.arange(3):\n",
    "    for col in np.arange(3):\n",
    "        plt.text(row,col,confu.T[row,col])\n",
    "plt.title('confusion matrix (seed= '+str(seed)+')')\n",
    "plt.savefig('./image/k_mean_iris_confusion_matrix.png',dpi=300)\n",
    "plt.show()"
   ]
  },
  {
   "cell_type": "markdown",
   "metadata": {},
   "source": [
    "### Display centriod paths"
   ]
  },
  {
   "cell_type": "code",
   "execution_count": null,
   "metadata": {},
   "outputs": [],
   "source": [
    "import matplotlib.pylab as plt\n",
    "import numpy as np\n",
    "colors = ['green','orange','blue']\n",
    "plt.figure()\n",
    "plt.subplots()\n",
    "plt.scatter(data_iris[:,0][iris.target==0],data_iris[:,1][iris.target==0],alpha=0.3,marker='.'\n",
    "            ,sizes=15*np.ones(data_iris.shape[0]),color=colors[0])#label=iris.target_names[0]\n",
    "plt.scatter(data_iris[:,0][iris.target==1],data_iris[:,1][iris.target==1],alpha=0.3,marker='.'\n",
    "            ,sizes=15*np.ones(data_iris.shape[0]),color=colors[1])#,label=iris.target_names[1]\n",
    "plt.scatter(data_iris[:,0][iris.target==2],data_iris[:,1][iris.target==2],alpha=0.3,marker='.'\n",
    "            ,sizes=15*np.ones(data_iris.shape[0]),color=colors[2])#,label=iris.target_names[2]\n",
    "plt.scatter(k_points_stored[0,:,0],k_points_stored[0,:,1],alpha=0.9,marker='*'\n",
    "            ,sizes=200*np.ones(data_iris.shape[0]),color='red')#,label=iris.target_names[2]\n",
    "#plot wrong prediction\n",
    "\n",
    "plt.scatter(data_iris[:,0][index_wrong!=0],data_iris[:,1][index_wrong!=0],alpha=0.3,marker='x'\n",
    "            ,sizes=15*np.ones(data_iris.shape[0]),color='black')#,label=iris.target_names[2]\n",
    "# plot k path\n",
    "for i_kmean in np.arange(k_points_stored.shape[1]):\n",
    "    plt.plot(k_points_stored[:,i_kmean,0],k_points_stored[:,i_kmean,1],'--',marker='s',\n",
    "                color=colors[i_kmean%3],label='path: '+str(i_kmean),alpha=0.5)\n",
    "plt.xlabel(iris.feature_names[0])\n",
    "plt.ylabel(iris.feature_names[3])\n",
    "plt.legend()\n",
    "plt.title('k means centriod moving paths: iris data'+', accuracy='+str(accuracy))\n",
    "plt.savefig('./image/k_mean_iris_centriod_paths.png',dpi=300)\n",
    "plt.show()"
   ]
  }
 ],
 "metadata": {
  "kernelspec": {
   "display_name": "Python 3.9.13 ('base')",
   "language": "python",
   "name": "python3"
  },
  "language_info": {
   "codemirror_mode": {
    "name": "ipython",
    "version": 3
   },
   "file_extension": ".py",
   "mimetype": "text/x-python",
   "name": "python",
   "nbconvert_exporter": "python",
   "pygments_lexer": "ipython3",
   "version": "3.9.5"
  },
  "orig_nbformat": 4,
  "vscode": {
   "interpreter": {
    "hash": "d6a818820a2d4b94df252b23f7d311b5b1a3798c769b2a454cee3c1911e726f3"
   }
  }
 },
 "nbformat": 4,
 "nbformat_minor": 2
}
