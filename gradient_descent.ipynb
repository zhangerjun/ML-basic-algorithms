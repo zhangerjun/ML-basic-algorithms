{
 "cells": [
  {
   "attachments": {},
   "cell_type": "markdown",
   "metadata": {},
   "source": [
    "## Gradient Descent Algorithm From Scratch"
   ]
  },
  {
   "cell_type": "code",
   "execution_count": null,
   "metadata": {},
   "outputs": [],
   "source": [
    "# import libraries\n",
    "import numpy as np\n",
    "import pandas as pd\n",
    "from sklearn.datasets import load_iris\n",
    "import matplotlib.pylab as plt\n",
    "import matplotlib.animation as animation\n",
    "from matplotlib import rc\n",
    "rc('font',**{'family':'sans-serif','sans-serif':['Helvetica']})\n",
    "## for Palatino and other serif fonts use:\n",
    "#rc('font',**{'family':'serif','serif':['Palatino']})\n",
    "rc('text', usetex=True)"
   ]
  },
  {
   "attachments": {},
   "cell_type": "markdown",
   "metadata": {},
   "source": [
    "### Show dataset"
   ]
  },
  {
   "cell_type": "code",
   "execution_count": null,
   "metadata": {},
   "outputs": [],
   "source": [
    "iris = load_iris()\n",
    "data = iris.data\n",
    "feature_names = iris.feature_names\n",
    "\n",
    "index_x = 2\n",
    "index_y = 3\n",
    "x = np.expand_dims(data[:,index_x],axis=1)\n",
    "y = np.expand_dims(data[:,index_y],axis=1)\n",
    "\n",
    "fig, ax = plt.subplots()\n",
    "ax.scatter(data[:,index_x],data[:,index_y],color='sandybrown',marker=\".\", s=25,label='smaples')\n",
    "plt.xlabel(feature_names[index_x])\n",
    "plt.ylabel(feature_names[index_y])\n",
    "plt.legend(loc='lower right')\n",
    "plt.show()"
   ]
  },
  {
   "attachments": {},
   "cell_type": "markdown",
   "metadata": {},
   "source": [
    "### Gradient Descent Function"
   ]
  },
  {
   "cell_type": "code",
   "execution_count": null,
   "metadata": {},
   "outputs": [],
   "source": [
    "def GradientDescent(x,y,w,lr=0.01,eps=1e-2,n_loop = 10000):\n",
    "    '''\n",
    "    x: NxD samples;\n",
    "    y: Nx1;\n",
    "    lr: learning rate;\n",
    "    eps: terminate condition;\n",
    "    retrun: w^T = NxD\n",
    "    '''\n",
    "    import numpy as np\n",
    "    N,D = x.shape\n",
    "    i_loop = -1\n",
    "    total_error = eps+1\n",
    "    while (total_error>eps) and (i_loop<n_loop):\n",
    "        i_loop+=1\n",
    "        y_hat = np.matmul(x,w)\n",
    "        y_err = y_hat-y\n",
    "        total_error = 0.5*np.matmul(y_err.T,y_err)\n",
    "        gradient = np.matmul(x.T,y_err)\n",
    "        w = w-lr*gradient\n",
    "    return w\n"
   ]
  },
  {
   "attachments": {},
   "cell_type": "markdown",
   "metadata": {},
   "source": [
    "### Apply GD on dataset and Display its effects"
   ]
  },
  {
   "cell_type": "code",
   "execution_count": null,
   "metadata": {},
   "outputs": [],
   "source": [
    "#initilize w\n",
    "w = np.zeros((x.shape[1],1))\n",
    "\n",
    "# create figures\n",
    "fig, ax = plt.subplots()\n",
    "fig.subplots_adjust(left=0.09, bottom=0.09, right=0.99, top=0.99,wspace=None, hspace=None)\n",
    "ims = []\n",
    "\n",
    "#Optimization loop\n",
    "for i_w in np.arange(95):\n",
    "    # Find w by using Gradient Desecent\n",
    "    w = GradientDescent(x=x,y=y,w=w,lr=0.00001,eps=1e-2,n_loop =1)\n",
    "    y_predit = np.matmul(x,w)\n",
    "    # show results\n",
    "    im, = ax.plot(x,y_predit,linestyle='--',color='royalblue')\n",
    "    title= ax.text(0.18,0.93,r'iteration='+str(i_w)+r', w='+str(np.round(w[0][0],2)), \n",
    "                    size=plt.rcParams[\"axes.titlesize\"],\n",
    "                    ha=\"center\", transform=ax.transAxes, )\n",
    "    ims.append([im,title])\n",
    "ax.plot(x[:1],y_predit[:1],linestyle='--',color='royalblue',label='line fitted')\n",
    "ax.scatter(data[:,index_x],data[:,index_y],color='sandybrown',marker=\".\", s=25,label='smaples')\n",
    "plt.xlabel(feature_names[index_x])\n",
    "plt.ylabel(feature_names[index_y])\n",
    "plt.legend(loc='lower right')\n",
    "ani = animation.ArtistAnimation(fig, ims, interval=250, blit=False)\n",
    "ani.save(\"./image/GD_iris_results_low_lr.gif\",writer='pillow',dpi=300)\n",
    "plt.show()\n"
   ]
  }
 ],
 "metadata": {
  "kernelspec": {
   "display_name": "Python 3.9.13 ('base')",
   "language": "python",
   "name": "python3"
  },
  "language_info": {
   "codemirror_mode": {
    "name": "ipython",
    "version": 3
   },
   "file_extension": ".py",
   "mimetype": "text/x-python",
   "name": "python",
   "nbconvert_exporter": "python",
   "pygments_lexer": "ipython3",
   "version": "3.9.13 (main, Oct 13 2022, 21:15:33) \n[GCC 11.2.0]"
  },
  "orig_nbformat": 4,
  "vscode": {
   "interpreter": {
    "hash": "d6a818820a2d4b94df252b23f7d311b5b1a3798c769b2a454cee3c1911e726f3"
   }
  }
 },
 "nbformat": 4,
 "nbformat_minor": 2
}
